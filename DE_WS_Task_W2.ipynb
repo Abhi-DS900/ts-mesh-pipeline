{
 "cells": [
  {
   "cell_type": "code",
   "execution_count": 4,
   "id": "aef364fc",
   "metadata": {},
   "outputs": [],
   "source": [
    "class DataDownloader2():\n",
    "    \n",
    "    def __init__(self, path, webdr_loc):\n",
    "        self.webdr_loc = webdr_loc\n",
    "        self.path = path\n",
    "\n",
    "    def load_module(self):\n",
    "        from selenium import webdriver\n",
    "        from selenium.webdriver.chrome.options import Options\n",
    "        from selenium.webdriver.common.by import By\n",
    "        from selenium.webdriver.support.ui import WebDriverWait\n",
    "        from selenium.webdriver.support import expected_conditions as EC\n",
    "        from selenium.webdriver.common.action_chains import ActionChains\n",
    "        import csv\n",
    "        import pdb\n",
    "        import pandas as pd\n",
    "        import time\n",
    "        import os.path\n",
    "\n",
    "        # Headless mode\n",
    "        options = Options()  # Initialize an instance of the Options class\n",
    "        options.headless = True  # True -> Headless mode activated\n",
    "\n",
    "\n",
    "        website = self.path\n",
    "        path = self.webdr_loc\n",
    "        driver = webdriver.Chrome(path,options=options)\n",
    "        driver.get(website)\n",
    "        # driver.maximize_window()\n",
    "\n",
    "        elem = driver.find_element(By.XPATH, '//a[contains(@href, \"event-search\")]')\n",
    "        new_path = elem.get_attribute(\"href\")\n",
    "\n",
    "        driver.quit()\n",
    "\n",
    "        website = new_path\n",
    "        path = self.webdr_loc\n",
    "        driver = webdriver.Chrome(path)\n",
    "        driver.get(website)\n",
    "        driver.maximize_window()\n",
    "\n",
    "        records = []\n",
    "\n",
    "        button = WebDriverWait(driver, 10).until(EC.visibility_of_element_located((By.XPATH, '//button[@aria-label = \"Download\"]')))\n",
    "        driver.implicitly_wait(10)\n",
    "        ActionChains(driver).move_to_element(button).click(button).perform()\n",
    "\n",
    "\n",
    "        button2 = WebDriverWait(driver, 10).until(EC.visibility_of_element_located((By.XPATH, '//a[@id=\"downloadButton\"]')))\n",
    "        # pdb.set_trace()\n",
    "        driver.implicitly_wait(10)\n",
    "\n",
    "        ActionChains(driver).move_to_element(button2).click(button2).perform()\n",
    "        # Implicit Wait\n",
    "        time.sleep(10)\n",
    "\n",
    "        driver.quit()\n",
    "\n"
   ]
  },
  {
   "cell_type": "code",
   "execution_count": 5,
   "id": "0c36033f",
   "metadata": {},
   "outputs": [],
   "source": [
    "f = DataDownloader2(path = 'https://dot.ca.gov/programs/procurement-and-contracts/contracts-out-for-bid', webdr_loc = r'C:\\Users\\vempa\\OneDrive\\Desktop\\Abhi\\Intershala_DataScience\\Interview - Final\\web scrapping\\Udemy-course\\chromedriver')"
   ]
  },
  {
   "cell_type": "code",
   "execution_count": 8,
   "id": "2a71276f",
   "metadata": {},
   "outputs": [
    {
     "name": "stderr",
     "output_type": "stream",
     "text": [
      "C:\\Users\\vempa\\AppData\\Local\\Temp/ipykernel_38000/2954962413.py:27: DeprecationWarning: executable_path has been deprecated, please pass in a Service object\n",
      "  driver = webdriver.Chrome(path,options=options)\n",
      "C:\\Users\\vempa\\AppData\\Local\\Temp/ipykernel_38000/2954962413.py:38: DeprecationWarning: executable_path has been deprecated, please pass in a Service object\n",
      "  driver = webdriver.Chrome(path)\n"
     ]
    }
   ],
   "source": [
    "f.load_module()"
   ]
  },
  {
   "cell_type": "code",
   "execution_count": null,
   "id": "fb335106",
   "metadata": {},
   "outputs": [],
   "source": []
  }
 ],
 "metadata": {
  "kernelspec": {
   "display_name": "Python 3 (ipykernel)",
   "language": "python",
   "name": "python3"
  },
  "language_info": {
   "codemirror_mode": {
    "name": "ipython",
    "version": 3
   },
   "file_extension": ".py",
   "mimetype": "text/x-python",
   "name": "python",
   "nbconvert_exporter": "python",
   "pygments_lexer": "ipython3",
   "version": "3.9.7"
  }
 },
 "nbformat": 4,
 "nbformat_minor": 5
}
